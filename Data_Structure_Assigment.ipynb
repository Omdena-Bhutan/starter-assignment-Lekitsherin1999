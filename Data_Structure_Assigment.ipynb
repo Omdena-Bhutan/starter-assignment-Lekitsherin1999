{
  "nbformat": 4,
  "nbformat_minor": 0,
  "metadata": {
    "colab": {
      "provenance": [],
      "authorship_tag": "ABX9TyO+SMW9rEpPETMXv18z6+je",
      "include_colab_link": true
    },
    "kernelspec": {
      "name": "python3",
      "display_name": "Python 3"
    },
    "language_info": {
      "name": "python"
    }
  },
  "cells": [
    {
      "cell_type": "markdown",
      "metadata": {
        "id": "view-in-github",
        "colab_type": "text"
      },
      "source": [
        "<a href=\"https://colab.research.google.com/github/Omdena-Bhutan/starter-assignment-Lekitsherin1999/blob/main/Data_Structure_Assigment.ipynb\" target=\"_parent\"><img src=\"https://colab.research.google.com/assets/colab-badge.svg\" alt=\"Open In Colab\"/></a>"
      ]
    },
    {
      "cell_type": "markdown",
      "source": [
        "# Part 1: Character Profile (Using Dictionaries and Basic Types)\n",
        "Create a dictionary named character_profile to store Alistair's basic information. The dictionary should have the following key-value pairs:\n",
        "\n",
        "'name': A string with the value \"Alistair the Brave\".\n",
        "\n",
        "'level': An integer representing his current level (start at 1).\n",
        "\n",
        "'health': An integer representing his current health (start at 100).\n",
        "\n",
        "'mana': An integer representing his current mana (start at 50).\n",
        "\n",
        "'gold': A float representing the amount of gold he has (start at 50.75).\n",
        "\n",
        "'is_alive': A boolean that is True by default.\n",
        "\n",
        "\n",
        "#Tasks\n",
        "\n",
        "Print the character's name and level in a formatted string.\n",
        "\n",
        "Update the character's health to 85.\n",
        "\n",
        "Add a new key-value pair for 'experience' with a value of 0.\n",
        "\n",
        "Print the final character_profile dictionary to the console."
      ],
      "metadata": {
        "id": "OIPHtnRjQ8ex"
      }
    },
    {
      "cell_type": "code",
      "execution_count": 57,
      "metadata": {
        "id": "3Lf-CBxEPhud"
      },
      "outputs": [],
      "source": [
        "# Create the character_profile dictionary\n",
        "character_profile = {\n",
        "    'name': \"Alistair the Brave\",\n",
        "    'level': 1,\n",
        "    'health': 100,\n",
        "    'mana': 50,\n",
        "    'gold': 50.75,\n",
        "    'is_alive': True\n",
        "}"
      ]
    },
    {
      "cell_type": "code",
      "source": [
        "character_profile"
      ],
      "metadata": {
        "colab": {
          "base_uri": "https://localhost:8080/"
        },
        "id": "JwjDcFHXPyKl",
        "outputId": "139540b7-493c-4770-a389-9aa9d10ebaf0"
      },
      "execution_count": 58,
      "outputs": [
        {
          "output_type": "execute_result",
          "data": {
            "text/plain": [
              "{'name': 'Alistair the Brave',\n",
              " 'level': 1,\n",
              " 'health': 100,\n",
              " 'mana': 50,\n",
              " 'gold': 50.75,\n",
              " 'is_alive': True}"
            ]
          },
          "metadata": {},
          "execution_count": 58
        }
      ]
    },
    {
      "cell_type": "code",
      "source": [
        "# Print the character's name and level in a formatted string\n",
        "print(f\"Character Name: {character_profile['name']}, Level: {character_profile['level']}\")"
      ],
      "metadata": {
        "colab": {
          "base_uri": "https://localhost:8080/"
        },
        "id": "OBthLm-gP_kE",
        "outputId": "88742dec-2419-4a3b-dbc7-0894e2e2d949"
      },
      "execution_count": 59,
      "outputs": [
        {
          "output_type": "stream",
          "name": "stdout",
          "text": [
            "Character Name: Alistair the Brave, Level: 1\n"
          ]
        }
      ]
    },
    {
      "cell_type": "code",
      "source": [
        "# Update the character's health to 85\n",
        "character_profile['health'] = 85"
      ],
      "metadata": {
        "id": "dIk7y5TRQZpG"
      },
      "execution_count": 60,
      "outputs": []
    },
    {
      "cell_type": "code",
      "source": [
        "# Add a new key-value pair for 'experience' with a value of 0\n",
        "character_profile['experience'] = 0"
      ],
      "metadata": {
        "id": "YzYqhW-uQptn"
      },
      "execution_count": 61,
      "outputs": []
    },
    {
      "cell_type": "code",
      "source": [
        "# Print the final character_profile dictionary to the console\n",
        "print(character_profile)"
      ],
      "metadata": {
        "colab": {
          "base_uri": "https://localhost:8080/"
        },
        "id": "9NdHPZcNQucL",
        "outputId": "904609fa-574e-4bcd-9f02-99e43e969a8b"
      },
      "execution_count": 62,
      "outputs": [
        {
          "output_type": "stream",
          "name": "stdout",
          "text": [
            "{'name': 'Alistair the Brave', 'level': 1, 'health': 85, 'mana': 50, 'gold': 50.75, 'is_alive': True, 'experience': 0}\n"
          ]
        }
      ]
    },
    {
      "cell_type": "markdown",
      "source": [
        "# Part 2: Inventory System (Using Lists)\n",
        "Create a list named inventory to hold the items Alistair is carrying. Items should be represented as strings.\n",
        "\n",
        "Tasks:\n",
        "Initialize the list with a few items, for example: ['sword', 'shield', 'health potion'].\n",
        "\n",
        "Add a new item to the inventory (e.g., 'mana potion').\n",
        "\n",
        "Remove an existing item from the inventory (e.g., 'shield').\n",
        "\n",
        "Use a for loop to iterate through the inventory list and print each item."
      ],
      "metadata": {
        "id": "YSxnqT4eRTJd"
      }
    },
    {
      "cell_type": "code",
      "source": [
        "# Create and initialize the inventory list\n",
        "inventory = ['sword', 'shield', 'health potion']"
      ],
      "metadata": {
        "id": "bkIHWMOvVS4z"
      },
      "execution_count": 63,
      "outputs": []
    },
    {
      "cell_type": "code",
      "source": [
        "# Add a new item to the inventory\n",
        "inventory.append('mana potion')"
      ],
      "metadata": {
        "id": "OA8v_lENR3m9"
      },
      "execution_count": 64,
      "outputs": []
    },
    {
      "cell_type": "code",
      "source": [
        "inventory"
      ],
      "metadata": {
        "colab": {
          "base_uri": "https://localhost:8080/"
        },
        "id": "oPdOpoRgVKmX",
        "outputId": "dc5f4690-eab0-4efd-84f7-315cb1a45675"
      },
      "execution_count": 65,
      "outputs": [
        {
          "output_type": "execute_result",
          "data": {
            "text/plain": [
              "['sword', 'shield', 'health potion', 'mana potion']"
            ]
          },
          "metadata": {},
          "execution_count": 65
        }
      ]
    },
    {
      "cell_type": "code",
      "source": [
        "# Remove an existing item from the inventory\n",
        "inventory.remove('shield')"
      ],
      "metadata": {
        "id": "jNfXONLLVlpM"
      },
      "execution_count": 66,
      "outputs": []
    },
    {
      "cell_type": "code",
      "source": [
        "inventory"
      ],
      "metadata": {
        "colab": {
          "base_uri": "https://localhost:8080/"
        },
        "id": "o0_Jh8LHVsgN",
        "outputId": "e1ff5510-fe3f-4e7d-df80-a302ab289e45"
      },
      "execution_count": 67,
      "outputs": [
        {
          "output_type": "execute_result",
          "data": {
            "text/plain": [
              "['sword', 'health potion', 'mana potion']"
            ]
          },
          "metadata": {},
          "execution_count": 67
        }
      ]
    },
    {
      "cell_type": "code",
      "source": [
        "inventory.remove('mana potion')"
      ],
      "metadata": {
        "id": "XPNxIsXIV7RE"
      },
      "execution_count": 68,
      "outputs": []
    },
    {
      "cell_type": "code",
      "source": [
        "inventory"
      ],
      "metadata": {
        "colab": {
          "base_uri": "https://localhost:8080/"
        },
        "id": "cAA6HT9HWIiI",
        "outputId": "e6c02b2e-3d06-4b15-86a0-36ce696eb59c"
      },
      "execution_count": 69,
      "outputs": [
        {
          "output_type": "execute_result",
          "data": {
            "text/plain": [
              "['sword', 'health potion']"
            ]
          },
          "metadata": {},
          "execution_count": 69
        }
      ]
    },
    {
      "cell_type": "code",
      "source": [
        "# Use a for loop to iterate through the inventory list and print each item\n",
        "print(\"Alistair's Inventory:\")\n",
        "for item in inventory:\n",
        "    print(item)"
      ],
      "metadata": {
        "colab": {
          "base_uri": "https://localhost:8080/"
        },
        "id": "LoHvcs9_WMED",
        "outputId": "da74a66e-dab6-44ec-c4b2-e26dd9ec1ef3"
      },
      "execution_count": 70,
      "outputs": [
        {
          "output_type": "stream",
          "name": "stdout",
          "text": [
            "Alistair's Inventory:\n",
            "sword\n",
            "health potion\n"
          ]
        }
      ]
    },
    {
      "cell_type": "markdown",
      "source": [
        "# Part 3: Character Stats (Using Tuples)\n",
        "Tuples are great for storing data that should not change. Create a tuple named base_stats to store Alistair's base attributes.\n",
        "\n",
        "The tuple should contain (strength, dexterity, intelligence).\n",
        "\n",
        "Choose a starting value for each attribute (e.g., (10, 8, 12)).\n",
        "\n",
        "# Tasks:\n",
        "Print a statement explaining why a tuple is a good choice for base stats (because they are immutable and won't change).\n",
        "\n",
        "Access and print the value of intelligence from the base_stats tuple.\n",
        "\n",
        "Challenge: Try to change one of the values in the tuple. Observe and explain the error you receive."
      ],
      "metadata": {
        "id": "OTWWaSUhWgoO"
      }
    },
    {
      "cell_type": "code",
      "source": [
        "# Create the base_stats tuple\n",
        "base_stats = (10, 8, 12)  # (strength, dexterity, intelligence)"
      ],
      "metadata": {
        "id": "RZ7pg_mKW3Dc"
      },
      "execution_count": 71,
      "outputs": []
    },
    {
      "cell_type": "code",
      "source": [
        "# Print a statement explaining why a tuple is a good choice for base stats\n",
        "print(\"Tuples are an excellent choice for storing base stats because they are immutable.\")\n",
        "print(\"This means the values cannot be changed after the tuple is created, ensuring the character's core attributes remain constant.\")"
      ],
      "metadata": {
        "colab": {
          "base_uri": "https://localhost:8080/"
        },
        "id": "pFpBsJ8YXLEi",
        "outputId": "860fa016-13df-420c-f2b0-c5fbe374aabe"
      },
      "execution_count": 72,
      "outputs": [
        {
          "output_type": "stream",
          "name": "stdout",
          "text": [
            "Tuples are an excellent choice for storing base stats because they are immutable.\n",
            "This means the values cannot be changed after the tuple is created, ensuring the character's core attributes remain constant.\n"
          ]
        }
      ]
    },
    {
      "cell_type": "code",
      "source": [
        "# Access and print the value of intelligence from the base_stats tuple\n",
        "print(f\"Alistair's Intelligence: {base_stats[2]}\")"
      ],
      "metadata": {
        "colab": {
          "base_uri": "https://localhost:8080/"
        },
        "id": "JsRQLzx0XVCE",
        "outputId": "42d586f6-af01-442e-9e57-408e6c949c24"
      },
      "execution_count": 73,
      "outputs": [
        {
          "output_type": "stream",
          "name": "stdout",
          "text": [
            "Alistair's Intelligence: 12\n"
          ]
        }
      ]
    },
    {
      "cell_type": "code",
      "source": [
        "# Challenge: Try to change one of the values in the tuple and explain the error\n",
        "base_stats(15)\n",
        "print(\"This means the values cannot be changed after the tuple is created and they are immutable.\")"
      ],
      "metadata": {
        "colab": {
          "base_uri": "https://localhost:8080/",
          "height": 176
        },
        "id": "cmffDCKTXirq",
        "outputId": "186e59fd-a993-4c0b-ca1e-d3ef6e0a6ff9"
      },
      "execution_count": 74,
      "outputs": [
        {
          "output_type": "error",
          "ename": "TypeError",
          "evalue": "'tuple' object is not callable",
          "traceback": [
            "\u001b[0;31m---------------------------------------------------------------------------\u001b[0m",
            "\u001b[0;31mTypeError\u001b[0m                                 Traceback (most recent call last)",
            "\u001b[0;32m/tmp/ipython-input-4223710128.py\u001b[0m in \u001b[0;36m<cell line: 0>\u001b[0;34m()\u001b[0m\n\u001b[1;32m      1\u001b[0m \u001b[0;31m# Challenge: Try to change one of the values in the tuple and explain the error\u001b[0m\u001b[0;34m\u001b[0m\u001b[0;34m\u001b[0m\u001b[0m\n\u001b[0;32m----> 2\u001b[0;31m \u001b[0mbase_stats\u001b[0m\u001b[0;34m(\u001b[0m\u001b[0;36m15\u001b[0m\u001b[0;34m)\u001b[0m\u001b[0;34m\u001b[0m\u001b[0;34m\u001b[0m\u001b[0m\n\u001b[0m\u001b[1;32m      3\u001b[0m \u001b[0mprint\u001b[0m\u001b[0;34m(\u001b[0m\u001b[0;34m\"This means the values cannot be changed after the tuple is created and they are immutable.\"\u001b[0m\u001b[0;34m)\u001b[0m\u001b[0;34m\u001b[0m\u001b[0;34m\u001b[0m\u001b[0m\n",
            "\u001b[0;31mTypeError\u001b[0m: 'tuple' object is not callable"
          ]
        }
      ]
    },
    {
      "cell_type": "markdown",
      "source": [
        "# Part 4: Quest Log (Using Sets)\n",
        "A set is ideal for tracking unique items. Create a set named quest_log to store the titles of Alistair's active quests.\n",
        "\n",
        "#Tasks:\n",
        "Initialize the set with a few quests, for example: {'Defeat the Goblin King', 'Find the Lost Amulet'}.\n",
        "\n",
        "Add a new quest to the log (e.g., 'Deliver the Old Scroll').\n",
        "\n",
        "Add a quest that is already in the set. Notice how the set handles duplicates.\n",
        "\n",
        "Remove a completed quest from the log (e.g., 'Find the Lost Amulet').\n",
        "\n",
        "Print the final quest_log set."
      ],
      "metadata": {
        "id": "Mpt1Cu8yZlAh"
      }
    },
    {
      "cell_type": "code",
      "source": [
        "# Create and initialize the quest_log set\n",
        "quest_log = {'Defeat the Goblin King', 'Find the Lost Amulet'}"
      ],
      "metadata": {
        "id": "hERWt-EzZqjO"
      },
      "execution_count": null,
      "outputs": []
    },
    {
      "cell_type": "code",
      "source": [
        "# Add a new quest to the log\n",
        "quest_log.add('Deliver the Old Scroll')"
      ],
      "metadata": {
        "id": "wenOU40xZ122"
      },
      "execution_count": null,
      "outputs": []
    },
    {
      "cell_type": "code",
      "source": [
        "quest_log"
      ],
      "metadata": {
        "id": "pxIhflh-Z76b"
      },
      "execution_count": null,
      "outputs": []
    },
    {
      "cell_type": "code",
      "source": [
        "# Add a quest that is already in the set (no change will occur)\n",
        "quest_log.add('Defeat the Goblin King')\n",
        "print(\"Note: Adding a duplicate quest 'Defeat the Goblin King' has no effect, as sets only store unique items.\")"
      ],
      "metadata": {
        "id": "rSU05Ny-aCpS"
      },
      "execution_count": null,
      "outputs": []
    },
    {
      "cell_type": "code",
      "source": [
        "# Remove a completed quest from the log\n",
        "quest_log.remove('Find the Lost Amulet')"
      ],
      "metadata": {
        "id": "qqMlXim4aYyn"
      },
      "execution_count": null,
      "outputs": []
    },
    {
      "cell_type": "code",
      "source": [
        "quest_log"
      ],
      "metadata": {
        "colab": {
          "base_uri": "https://localhost:8080/"
        },
        "id": "Lcu_crtRaeGQ",
        "outputId": "ff4f0cc7-90e9-4b66-a950-5da5b8729c26"
      },
      "execution_count": 75,
      "outputs": [
        {
          "output_type": "execute_result",
          "data": {
            "text/plain": [
              "{'Defeat the Goblin King', 'Deliver the Old Scroll'}"
            ]
          },
          "metadata": {},
          "execution_count": 75
        }
      ]
    },
    {
      "cell_type": "code",
      "source": [
        "# Print the final quest_log set\n",
        "print(quest_log)"
      ],
      "metadata": {
        "colab": {
          "base_uri": "https://localhost:8080/"
        },
        "id": "jaQ_c1vQag2Y",
        "outputId": "0fd922da-58e9-4a90-a96a-26eefd8ee67b"
      },
      "execution_count": 76,
      "outputs": [
        {
          "output_type": "stream",
          "name": "stdout",
          "text": [
            "{'Defeat the Goblin King', 'Deliver the Old Scroll'}\n"
          ]
        }
      ]
    },
    {
      "cell_type": "markdown",
      "source": [
        "# Part 5: Putting it all together\n",
        "Now, combine all the data structures into a single character_sheet dictionary. This dictionary will hold all the information you've created so far.\n",
        "\n",
        "# Tasks:\n",
        "Create a dictionary named character_sheet.\n",
        "\n",
        "Set the value of the key 'profile' to the character_profile dictionary you created in Part 1.\n",
        "\n",
        "Set the value of the key 'inventory' to the inventory list from Part 2.\n",
        "\n",
        "Set the value of the key 'stats' to the base_stats tuple from Part 3.\n",
        "\n",
        "Set the value of the key 'quests' to the quest_log set from Part 4.\n",
        "\n",
        "Print the entire character_sheet to demonstrate how different data structures can be nested within each other."
      ],
      "metadata": {
        "id": "QAlgLIN7a7ku"
      }
    },
    {
      "cell_type": "code",
      "source": [
        "# Combine all data structures into a single character sheet.\n",
        "character_sheet = {\n",
        "    'profile': character_profile,\n",
        "    'inventory': inventory,\n",
        "    'stats': base_stats,\n",
        "    'quests': quest_log\n",
        "}"
      ],
      "metadata": {
        "id": "gMlvwDNobQOX"
      },
      "execution_count": 77,
      "outputs": []
    },
    {
      "cell_type": "code",
      "source": [
        "# Print the final nested dictionary.\n",
        "print(character_sheet)"
      ],
      "metadata": {
        "colab": {
          "base_uri": "https://localhost:8080/"
        },
        "id": "YJXG8QxubwW0",
        "outputId": "802edbee-3e8b-4c27-d90d-1919753c054d"
      },
      "execution_count": 78,
      "outputs": [
        {
          "output_type": "stream",
          "name": "stdout",
          "text": [
            "{'profile': {'name': 'Alistair the Brave', 'level': 1, 'health': 85, 'mana': 50, 'gold': 50.75, 'is_alive': True, 'experience': 0}, 'inventory': ['sword', 'health potion'], 'stats': (10, 8, 12), 'quests': {'Defeat the Goblin King', 'Deliver the Old Scroll'}}\n"
          ]
        }
      ]
    }
  ]
}